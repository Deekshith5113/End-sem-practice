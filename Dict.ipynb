{
  "nbformat": 4,
  "nbformat_minor": 0,
  "metadata": {
    "colab": {
      "name": "Dict.ipynb",
      "provenance": [],
      "authorship_tag": "ABX9TyPA6YWrflF9AXs0xsyIkSB1",
      "include_colab_link": true
    },
    "kernelspec": {
      "name": "python3",
      "display_name": "Python 3"
    },
    "language_info": {
      "name": "python"
    }
  },
  "cells": [
    {
      "cell_type": "markdown",
      "metadata": {
        "id": "view-in-github",
        "colab_type": "text"
      },
      "source": [
        "<a href=\"https://colab.research.google.com/github/Deekshith5113/End-sem-practice/blob/main/Dict.ipynb\" target=\"_parent\"><img src=\"https://colab.research.google.com/assets/colab-badge.svg\" alt=\"Open In Colab\"/></a>"
      ]
    },
    {
      "cell_type": "code",
      "execution_count": null,
      "metadata": {
        "colab": {
          "base_uri": "https://localhost:8080/"
        },
        "id": "0TN6bJY548cv",
        "outputId": "1debdfca-7b01-4ba5-b21a-30052ffaade1"
      },
      "outputs": [
        {
          "output_type": "stream",
          "name": "stdout",
          "text": [
            "How many top you want : 3\n",
            "item1\n",
            "item4 55\n",
            "item1 45.5\n",
            "item3 41.3\n"
          ]
        }
      ],
      "source": [
        "#Top items in a dictionary\n",
        "d={'item1': 45.50, 'item2':35, 'item3': 41.30, 'item4':55, 'item5': 24};\n",
        "x=int(input(\"How many top you want : \"))\n",
        "print(min(d))\n",
        "dv=list(d.values());dk=list(d.keys())\n",
        "for i in range (x):\n",
        "  m=dv.index(max(dv))\n",
        "  print(dk[m],dv[m])\n",
        "  dk.pop(m);dv.pop(m)"
      ]
    },
    {
      "cell_type": "code",
      "source": [
        ""
      ],
      "metadata": {
        "id": "Bp5iuzYX5Pbd"
      },
      "execution_count": 3,
      "outputs": []
    }
  ]
}
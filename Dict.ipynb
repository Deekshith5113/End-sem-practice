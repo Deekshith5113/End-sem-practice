{
  "nbformat": 4,
  "nbformat_minor": 0,
  "metadata": {
    "colab": {
      "name": "Dict.ipynb",
      "provenance": [],
      "authorship_tag": "ABX9TyPCzZ4gvc/JNLGmxfMs8s4u",
      "include_colab_link": true
    },
    "kernelspec": {
      "name": "python3",
      "display_name": "Python 3"
    },
    "language_info": {
      "name": "python"
    }
  },
  "cells": [
    {
      "cell_type": "markdown",
      "metadata": {
        "id": "view-in-github",
        "colab_type": "text"
      },
      "source": [
        "<a href=\"https://colab.research.google.com/github/Deekshith5113/End-sem-practice/blob/main/Dict.ipynb\" target=\"_parent\"><img src=\"https://colab.research.google.com/assets/colab-badge.svg\" alt=\"Open In Colab\"/></a>"
      ]
    },
    {
      "cell_type": "code",
      "execution_count": 1,
      "metadata": {
        "colab": {
          "base_uri": "https://localhost:8080/"
        },
        "id": "0TN6bJY548cv",
        "outputId": "1debdfca-7b01-4ba5-b21a-30052ffaade1"
      },
      "outputs": [
        {
          "output_type": "stream",
          "name": "stdout",
          "text": [
            "How many top you want : 3\n",
            "item1\n",
            "item4 55\n",
            "item1 45.5\n",
            "item3 41.3\n"
          ]
        }
      ],
      "source": [
        "#Top items in a dictionary\n",
        "d={'item1': 45.50, 'item2':35, 'item3': 41.30, 'item4':55, 'item5': 24};\n",
        "x=int(input(\"How many top you want : \"))\n",
        "print(min(d))\n",
        "dv=list(d.values());dk=list(d.keys())\n",
        "for i in range (x):\n",
        "  m=dv.index(max(dv))\n",
        "  print(dk[m],dv[m])\n",
        "  dk.pop(m);dv.pop(m)"
      ]
    },
    {
      "cell_type": "code",
      "source": [
        "import matplotlib.pyplot as plt\n",
        "import numpy as np\n",
        "x=np.array([1,1])\n",
        "y=np.array([4,8])\n",
        "a=np.array([1,1.5,2])\n",
        "b=np.array([6,7,8])\n",
        "m=np.array([1,1.5,2])\n",
        "n=np.array([6,5,4])\n",
        "plt.plot(x,y,ls='-',color='r')\n",
        "plt.plot(a,b,ls='-',color='r')\n",
        "plt.plot(m,n,ls='-',color='r')"
      ],
      "metadata": {
        "colab": {
          "base_uri": "https://localhost:8080/",
          "height": 282
        },
        "id": "Bp5iuzYX5Pbd",
        "outputId": "d5357a55-34bd-4089-ffe3-2590e710ad3c"
      },
      "execution_count": 3,
      "outputs": [
        {
          "output_type": "execute_result",
          "data": {
            "text/plain": [
              "[<matplotlib.lines.Line2D at 0x7fb4e48d3610>]"
            ]
          },
          "metadata": {},
          "execution_count": 3
        },
        {
          "output_type": "display_data",
          "data": {
            "text/plain": [
              "<Figure size 432x288 with 1 Axes>"
            ],
            "image/png": "[encoded data removed]"
          },
          "metadata": {
            "needs_background": "light"
          }
        }
      ]
    },
    {
      "cell_type": "code",
      "source": [
        ""
      ],
      "metadata": {
        "id": "BQfBO1R_5lct"
      },
      "execution_count": null,
      "outputs": []
    }
  ]
}